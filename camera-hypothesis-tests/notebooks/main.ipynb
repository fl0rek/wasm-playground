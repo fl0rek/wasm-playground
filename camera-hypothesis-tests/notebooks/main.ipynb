{
 "cells": [
  {
   "cell_type": "code",
   "execution_count": 1,
   "metadata": {},
   "outputs": [],
   "source": [
    "from dataclasses import dataclass\n",
    "\n",
    "import matplotlib.pyplot as plt\n",
    "import numpy as np"
   ]
  },
  {
   "cell_type": "code",
   "execution_count": 2,
   "metadata": {},
   "outputs": [],
   "source": [
    "@dataclass\n",
    "class Camera:\n",
    "    baseline: int = 100  # ADU\n",
    "    bit_depth: int = 12\n",
    "    dark_noise: float = 6.83  # e-\n",
    "    gain: float = 0.12  # ADU / e-\n",
    "    quantum_efficiency: float = 0.76\n",
    "    well_capacity: int = 32406  # e-\n",
    "    rng: np.random.Generator = np.random.default_rng()\n",
    "\n",
    "    def snap(self, signal):\n",
    "        # Simulate shot noise and convert to electrons\n",
    "        photoelectrons = self.rng.poisson(\n",
    "            self.quantum_efficiency * signal, size=signal.shape\n",
    "        )\n",
    "\n",
    "        # Add dark noise\n",
    "        electrons = (\n",
    "            self.rng.normal(scale=self.dark_noise, size=photoelectrons.shape)\n",
    "            + photoelectrons\n",
    "        )\n",
    "\n",
    "        # Clip to the well capacity to model electron saturation\n",
    "        electrons = np.clip(electrons, 0, self.well_capacity)\n",
    "\n",
    "        # Convert to ADU\n",
    "        adu = electrons * self.gain + self.baseline\n",
    "\n",
    "        # Clip to the bit depth to model ADU saturation\n",
    "        adu = np.clip(adu, 0, 2 ** self.bit_depth - 1)\n",
    "\n",
    "        return adu.astype(np.uint16)"
   ]
  },
  {
   "cell_type": "code",
   "execution_count": 5,
   "metadata": {},
   "outputs": [
    {
     "data": {
      "image/png": "[encoded data removed]",
      "text/plain": [
       "<Figure size 640x480 with 1 Axes>"
      ]
     },
     "metadata": {},
     "output_type": "display_data"
    }
   ],
   "source": [
    "camera = Camera()\n",
    "results = camera.snap(np.ones((10000)) * 1000)\n",
    "\n",
    "fig = plt.figure()\n",
    "ax = fig.add_subplot(111)\n",
    "ax.hist(results, bins=100)\n",
    "ax.spines['right'].set_visible(False)\n",
    "ax.spines['top'].set_visible(False)\n",
    "ax.set_xlabel(\"ADU\")\n",
    "plt.show()"
   ]
  },
  {
   "cell_type": "code",
   "execution_count": 6,
   "metadata": {},
   "outputs": [
    {
     "name": "stdout",
     "output_type": "stream",
     "text": [
      "190.721\n",
      "3.4368239698884784\n"
     ]
    }
   ],
   "source": [
    "print(results.mean())\n",
    "print(results.std())"
   ]
  },
  {
   "cell_type": "code",
   "execution_count": 9,
   "metadata": {},
   "outputs": [
    {
     "name": "stdout",
     "output_type": "stream",
     "text": [
      "191.2\n",
      "3.4203914239942383\n"
     ]
    }
   ],
   "source": [
    "mu_y = camera.gain * camera.quantum_efficiency * 1000 + camera.baseline\n",
    "sigma_y = np.sqrt(\n",
    "    camera.gain ** 2 * camera.dark_noise ** 2 + 1/12 + camera.gain * (mu_y - camera.baseline)\n",
    ")\n",
    "\n",
    "print(mu_y)\n",
    "print(sigma_y)"
   ]
  },
  {
   "cell_type": "code",
   "execution_count": null,
   "metadata": {},
   "outputs": [],
   "source": []
  }
 ],
 "metadata": {
  "kernelspec": {
   "display_name": ".venv",
   "language": "python",
   "name": "python3"
  },
  "language_info": {
   "codemirror_mode": {
    "name": "ipython",
    "version": 3
   },
   "file_extension": ".py",
   "mimetype": "text/x-python",
   "name": "python",
   "nbconvert_exporter": "python",
   "pygments_lexer": "ipython3",
   "version": "3.12.1"
  }
 },
 "nbformat": 4,
 "nbformat_minor": 2
}
